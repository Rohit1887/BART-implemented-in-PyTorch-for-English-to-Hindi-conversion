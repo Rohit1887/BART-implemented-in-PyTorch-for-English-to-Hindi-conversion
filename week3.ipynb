{
 "cells": [
  {
   "cell_type": "code",
   "execution_count": 1,
   "id": "46ecbe48",
   "metadata": {},
   "outputs": [],
   "source": [
    "from transformers import AutoTokenizer\n",
    "import torch"
   ]
  },
  {
   "cell_type": "code",
   "execution_count": 2,
   "id": "e5f3c7a8",
   "metadata": {},
   "outputs": [],
   "source": [
    "# To get lang_id use any of ['<2as>', '<2bn>', '<2en>', '<2gu>', '<2hi>', '<2kn>', '<2ml>', '<2mr>', '<2or>', '<2pa>', '<2ta>', '<2te>']\n",
    "def token_to_ids():\n",
    "    bos_id = tokenizer._convert_token_to_id_with_added_voc(\"<s>\") #beginning of sentence\n",
    "    eos_id = tokenizer._convert_token_to_id_with_added_voc(\"</s>\") #end of sentence\n",
    "    pad_id = tokenizer._convert_token_to_id_with_added_voc(\"<pad>\") #padding id\n",
    "    eng_id = tokenizer._convert_token_to_id_with_added_voc(\"<2en>\") #language id\n",
    "    hindi_id= tokenizer._convert_token_to_id_with_added_voc(\"<2hi>\") #language id\n",
    "\n",
    "    return (bos_id, eos_id, pad_id, eng_id, hindi_id)\n",
    "\n"
   ]
  },
  {
   "cell_type": "code",
   "execution_count": 3,
   "id": "31db1572",
   "metadata": {},
   "outputs": [],
   "source": [
    "#reading english hindi files containing 6,59,083 lines\n",
    "# https://www.cfilt.iitb.ac.in/iitb_parallel/iitb_corpus_download/parallel.zip\n",
    "def read_files():\n",
    "    with open(\"./parallel-n/IITB_english.txt\",\"r\") as file1:\n",
    "        eng_file= file1.readlines()\n",
    "\n",
    "    with open(\"./parallel-n/IITB_hindi.txt\") as file2:\n",
    "        hindi_file= file2.readlines()\n",
    "\n",
    "    return (eng_file, hindi_file)\n"
   ]
  },
  {
   "cell_type": "code",
   "execution_count": 4,
   "id": "d00ef84d",
   "metadata": {},
   "outputs": [],
   "source": [
    "'''\n",
    "the format of input should be {text} {eos token} {language id}\n",
    "\"I am a boy </s> <2en>\"\n",
    "'''\n",
    "def change_eng_text(input):\n",
    "    input= input.split(\"\\n\")[0]\n",
    "    data= input + \" </s> \" + \"<2en>\"\n",
    "    return data\n",
    "\n",
    "\n",
    "'''\n",
    "the format of output will be {language id} {text} {eos token}\n",
    "\"<2hi> मैं  एक लड़का हूँ </s>\" '''\n",
    "def change_hindi_text(input):\n",
    "    input= input.split(\"\\n\")[0]\n",
    "    data= \"<2hi> \" + input + \" </s>\"\n",
    "    return data"
   ]
  },
  {
   "cell_type": "code",
   "execution_count": 5,
   "id": "438ae760",
   "metadata": {},
   "outputs": [],
   "source": [
    "def save_tensor(num_of_lines):\n",
    "    eng_file, hindi_file= read_files()\n",
    "    #tokenization of both files containing english and hindi text\n",
    "    tokenizer= AutoTokenizer.from_pretrained(\"ai4bharat/IndicBART\", do_lower_case=True, use_fast=False, keep_accents=True)\n",
    "\n",
    "    eng_tokens=[]\n",
    "    hindi_tokens=[]\n",
    "    #num_of_lines= 659083\n",
    "\n",
    "    for i in range(num_of_lines):\n",
    "        eng_text= eng_file[i]\n",
    "        hindi_text= hindi_file[i]\n",
    "        \n",
    "        eng_tokens.append(tokenizer(change_eng_text(eng_text), \n",
    "                                    padding=True, truncation=True, \n",
    "                                    return_tensors=\"pt\")[\"input_ids\"])\n",
    "        \n",
    "        hindi_tokens.append(tokenizer(change_hindi_text(hindi_text), \n",
    "                                      padding=True, truncation=True, \n",
    "                                      return_tensors=\"pt\")[\"input_ids\"])\n",
    "        \n",
    "\n",
    "    torch.save(eng_tokens,\"split_eng_tensors.pt\")\n",
    "    torch.save(hindi_tokens,\"split_hindi_tensors.pt\")"
   ]
  },
  {
   "cell_type": "code",
   "execution_count": 6,
   "id": "64bd3068",
   "metadata": {},
   "outputs": [],
   "source": [
    "def load_tensors(eng_file, hindi_file):\n",
    "    eng_tensors= torch.load(eng_file)\n",
    "    hindi_tensors= torch.load(hindi_file)\n",
    "    return (eng_tensors, hindi_tensors)"
   ]
  },
  {
   "cell_type": "code",
   "execution_count": 7,
   "id": "fb42c3dd",
   "metadata": {},
   "outputs": [],
   "source": [
    "def splitting_data(eng_tensor, hindi_tensor):\n",
    "    #n= int(0.8*659083)\n",
    "    #b= int(0.9*659083)\n",
    "\n",
    "    n= 80\n",
    "    b= 90\n",
    "\n",
    "    training_eng_data= eng_tensor[:n]\n",
    "    val_eng_data= eng_tensor[n:b]\n",
    "    test_eng_data= eng_tensor[b:]\n",
    "\n",
    "    training_hindi_data= hindi_tensor[:n]\n",
    "    val_hindi_data= hindi_tensor[n:b]\n",
    "    test_hindi_data= hindi_tensor[b:]\n",
    "\n",
    "    return (training_eng_data, val_eng_data, test_eng_data,\n",
    "        training_hindi_data, val_hindi_data, test_hindi_data)\n"
   ]
  },
  {
   "cell_type": "code",
   "execution_count": 8,
   "id": "2d125b4d",
   "metadata": {},
   "outputs": [
    {
     "name": "stdout",
     "output_type": "stream",
     "text": [
      "[tensor([[    2,  7338,  3163, 25690,   494, 12698, 37568,  2781,  6386, 64001,\n",
      "         64004,     3]]), tensor([[    2, 18941,   536,  5129,    36,   536, 12698, 37568, 42033,  1035,\n",
      "         64001, 64004,     3]])] \n",
      "\n",
      "[tensor([[    2, 31423,    67, 11341, 29783, 64001, 64004,     3]]), tensor([[    2, 30097, 16526, 64001, 64004,     3]])] \n",
      "\n",
      "[tensor([[    2,  4440, 64001, 64004,     3]]), tensor([[    2,  4636,  3153, 36355,  2588,  6724, 64001, 64004,     3]])] \n",
      "\n",
      "[tensor([[    2, 64006,   452, 51891,    45,  4959,  9760,    86,  8103,    44,\n",
      "           442,  4150, 64001,     3]]), tensor([[    2, 64006,  4049,    12,  1544,   268,  1394,  4959,  9760,    86,\n",
      "         36655,    20, 64001,     3]])] \n",
      "\n",
      "[tensor([[    2, 64006, 17209,  5618, 64001,     3]]), tensor([[    2, 64006, 31849,   802, 64001,     3]])] \n",
      "\n",
      "[tensor([[    2, 64006,  1838, 64001,     3]]), tensor([[    2, 64006,   409,   378, 15212,  1423,  1256,   122, 64001,     3]])] \n",
      "\n"
     ]
    }
   ],
   "source": [
    "#save_tensor(100)\n",
    "\n",
    "eng, hindi= load_tensors(\"split_eng_tensors.pt\", \"split_hindi_tensors.pt\")\n",
    "\n",
    "for i in splitting_data(eng, hindi):\n",
    "    print(i[:2],\"\\n\")\n"
   ]
  },
  {
   "cell_type": "code",
   "execution_count": null,
   "id": "3aad339d",
   "metadata": {},
   "outputs": [],
   "source": []
  }
 ],
 "metadata": {
  "kernelspec": {
   "display_name": "Python 3 (ipykernel)",
   "language": "python",
   "name": "python3"
  },
  "language_info": {
   "codemirror_mode": {
    "name": "ipython",
    "version": 3
   },
   "file_extension": ".py",
   "mimetype": "text/x-python",
   "name": "python",
   "nbconvert_exporter": "python",
   "pygments_lexer": "ipython3",
   "version": "3.10.6"
  }
 },
 "nbformat": 4,
 "nbformat_minor": 5
}
